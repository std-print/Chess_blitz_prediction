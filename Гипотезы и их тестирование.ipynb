{
 "cells": [
  {
   "cell_type": "markdown",
   "id": "28e9ae25",
   "metadata": {},
   "source": [
    "# Тетрадка с реализацией тестирования указанных в README гипотез."
   ]
  },
  {
   "cell_type": "markdown",
   "id": "c203d5dc",
   "metadata": {},
   "source": [
    "_Импортируем необходимые библиотеки и посмотрим на данные:_"
   ]
  },
  {
   "cell_type": "code",
   "execution_count": 187,
   "id": "72df6c0f",
   "metadata": {},
   "outputs": [],
   "source": [
    "import numpy as np\n",
    "import pandas as pd\n",
    "import scipy.stats as sts\n",
    "import matplotlib.pyplot as plt\n",
    "\n",
    "from scipy.stats import ttest_ind\n",
    "\n",
    "import warnings\n",
    "warnings.filterwarnings(\"ignore\")"
   ]
  },
  {
   "cell_type": "code",
   "execution_count": 162,
   "id": "8577c08c",
   "metadata": {},
   "outputs": [],
   "source": [
    "df = pd.read_csv('Датасет шахматисты мнение.csv')"
   ]
  },
  {
   "cell_type": "code",
   "execution_count": 163,
   "id": "23f41c12",
   "metadata": {},
   "outputs": [
    {
     "data": {
      "text/html": [
       "<div>\n",
       "<style scoped>\n",
       "    .dataframe tbody tr th:only-of-type {\n",
       "        vertical-align: middle;\n",
       "    }\n",
       "\n",
       "    .dataframe tbody tr th {\n",
       "        vertical-align: top;\n",
       "    }\n",
       "\n",
       "    .dataframe thead th {\n",
       "        text-align: right;\n",
       "    }\n",
       "</style>\n",
       "<table border=\"1\" class=\"dataframe\">\n",
       "  <thead>\n",
       "    <tr style=\"text-align: right;\">\n",
       "      <th></th>\n",
       "      <th>Event</th>\n",
       "      <th>Site</th>\n",
       "      <th>Date</th>\n",
       "      <th>Round</th>\n",
       "      <th>White</th>\n",
       "      <th>Black</th>\n",
       "      <th>Result</th>\n",
       "      <th>UTCDate</th>\n",
       "      <th>UTCTime</th>\n",
       "      <th>WhiteElo</th>\n",
       "      <th>BlackElo</th>\n",
       "      <th>WhiteRatingDiff</th>\n",
       "      <th>BlackRatingDiff</th>\n",
       "      <th>ECO</th>\n",
       "      <th>Opening</th>\n",
       "      <th>TimeControl</th>\n",
       "      <th>Termination</th>\n",
       "      <th>WhiteTitle</th>\n",
       "      <th>BlackTitle</th>\n",
       "    </tr>\n",
       "  </thead>\n",
       "  <tbody>\n",
       "    <tr>\n",
       "      <th>0</th>\n",
       "      <td>Rated Rapid tournament https://lichess.org/tou...</td>\n",
       "      <td>https://lichess.org/uManRThA</td>\n",
       "      <td>2023.03.01</td>\n",
       "      <td>-</td>\n",
       "      <td>Apostolis_L</td>\n",
       "      <td>laurent971</td>\n",
       "      <td>1-0</td>\n",
       "      <td>1</td>\n",
       "      <td>55</td>\n",
       "      <td>1326</td>\n",
       "      <td>1328</td>\n",
       "      <td>6.0</td>\n",
       "      <td>-6.0</td>\n",
       "      <td>C62</td>\n",
       "      <td>Ruy Lopez: Steinitz Defense</td>\n",
       "      <td>600+0</td>\n",
       "      <td>Normal</td>\n",
       "      <td>NaN</td>\n",
       "      <td>NaN</td>\n",
       "    </tr>\n",
       "    <tr>\n",
       "      <th>1</th>\n",
       "      <td>Rated Blitz game</td>\n",
       "      <td>https://lichess.org/j82WFG7O</td>\n",
       "      <td>2023.03.01</td>\n",
       "      <td>-</td>\n",
       "      <td>Chawteenn</td>\n",
       "      <td>EidosRock</td>\n",
       "      <td>1-0</td>\n",
       "      <td>1</td>\n",
       "      <td>29</td>\n",
       "      <td>1749</td>\n",
       "      <td>1775</td>\n",
       "      <td>6.0</td>\n",
       "      <td>-6.0</td>\n",
       "      <td>D32</td>\n",
       "      <td>Tarrasch Defense</td>\n",
       "      <td>180+0</td>\n",
       "      <td>Normal</td>\n",
       "      <td>NaN</td>\n",
       "      <td>NaN</td>\n",
       "    </tr>\n",
       "    <tr>\n",
       "      <th>2</th>\n",
       "      <td>Rated Blitz game</td>\n",
       "      <td>https://lichess.org/VVmF1x2d</td>\n",
       "      <td>2023.03.01</td>\n",
       "      <td>-</td>\n",
       "      <td>mathmatical</td>\n",
       "      <td>Ilieck</td>\n",
       "      <td>0-1</td>\n",
       "      <td>1</td>\n",
       "      <td>52</td>\n",
       "      <td>2030</td>\n",
       "      <td>2059</td>\n",
       "      <td>-5.0</td>\n",
       "      <td>6.0</td>\n",
       "      <td>B01</td>\n",
       "      <td>Scandinavian Defense: Mieses-Kotroc Variation</td>\n",
       "      <td>180+0</td>\n",
       "      <td>Time forfeit</td>\n",
       "      <td>NaN</td>\n",
       "      <td>NaN</td>\n",
       "    </tr>\n",
       "    <tr>\n",
       "      <th>3</th>\n",
       "      <td>Rated Rapid game</td>\n",
       "      <td>https://lichess.org/RagJpQJI</td>\n",
       "      <td>2023.03.01</td>\n",
       "      <td>-</td>\n",
       "      <td>Haze0809</td>\n",
       "      <td>Keykodeus</td>\n",
       "      <td>0-1</td>\n",
       "      <td>1</td>\n",
       "      <td>48</td>\n",
       "      <td>1204</td>\n",
       "      <td>1278</td>\n",
       "      <td>-5.0</td>\n",
       "      <td>116.0</td>\n",
       "      <td>B01</td>\n",
       "      <td>Scandinavian Defense: Mieses-Kotroc Variation</td>\n",
       "      <td>600+0</td>\n",
       "      <td>Normal</td>\n",
       "      <td>NaN</td>\n",
       "      <td>NaN</td>\n",
       "    </tr>\n",
       "    <tr>\n",
       "      <th>4</th>\n",
       "      <td>Rated Bullet game</td>\n",
       "      <td>https://lichess.org/y3hgXe5H</td>\n",
       "      <td>2023.03.01</td>\n",
       "      <td>-</td>\n",
       "      <td>PaPanDreo</td>\n",
       "      <td>Solus-Christus</td>\n",
       "      <td>0-1</td>\n",
       "      <td>1</td>\n",
       "      <td>97</td>\n",
       "      <td>1545</td>\n",
       "      <td>1564</td>\n",
       "      <td>-5.0</td>\n",
       "      <td>6.0</td>\n",
       "      <td>C50</td>\n",
       "      <td>Italian Game: Giuoco Pianissimo, Italian Four ...</td>\n",
       "      <td>120+1</td>\n",
       "      <td>Normal</td>\n",
       "      <td>NaN</td>\n",
       "      <td>NaN</td>\n",
       "    </tr>\n",
       "  </tbody>\n",
       "</table>\n",
       "</div>"
      ],
      "text/plain": [
       "                                               Event  \\\n",
       "0  Rated Rapid tournament https://lichess.org/tou...   \n",
       "1                                   Rated Blitz game   \n",
       "2                                   Rated Blitz game   \n",
       "3                                   Rated Rapid game   \n",
       "4                                  Rated Bullet game   \n",
       "\n",
       "                           Site        Date Round        White  \\\n",
       "0  https://lichess.org/uManRThA  2023.03.01     -  Apostolis_L   \n",
       "1  https://lichess.org/j82WFG7O  2023.03.01     -    Chawteenn   \n",
       "2  https://lichess.org/VVmF1x2d  2023.03.01     -  mathmatical   \n",
       "3  https://lichess.org/RagJpQJI  2023.03.01     -     Haze0809   \n",
       "4  https://lichess.org/y3hgXe5H  2023.03.01     -    PaPanDreo   \n",
       "\n",
       "            Black Result  UTCDate  UTCTime  WhiteElo  BlackElo  \\\n",
       "0      laurent971    1-0        1       55      1326      1328   \n",
       "1       EidosRock    1-0        1       29      1749      1775   \n",
       "2          Ilieck    0-1        1       52      2030      2059   \n",
       "3       Keykodeus    0-1        1       48      1204      1278   \n",
       "4  Solus-Christus    0-1        1       97      1545      1564   \n",
       "\n",
       "   WhiteRatingDiff  BlackRatingDiff  ECO  \\\n",
       "0              6.0             -6.0  C62   \n",
       "1              6.0             -6.0  D32   \n",
       "2             -5.0              6.0  B01   \n",
       "3             -5.0            116.0  B01   \n",
       "4             -5.0              6.0  C50   \n",
       "\n",
       "                                             Opening TimeControl  \\\n",
       "0                        Ruy Lopez: Steinitz Defense       600+0   \n",
       "1                                   Tarrasch Defense       180+0   \n",
       "2      Scandinavian Defense: Mieses-Kotroc Variation       180+0   \n",
       "3      Scandinavian Defense: Mieses-Kotroc Variation       600+0   \n",
       "4  Italian Game: Giuoco Pianissimo, Italian Four ...       120+1   \n",
       "\n",
       "    Termination WhiteTitle BlackTitle  \n",
       "0        Normal        NaN        NaN  \n",
       "1        Normal        NaN        NaN  \n",
       "2  Time forfeit        NaN        NaN  \n",
       "3        Normal        NaN        NaN  \n",
       "4        Normal        NaN        NaN  "
      ]
     },
     "execution_count": 163,
     "metadata": {},
     "output_type": "execute_result"
    }
   ],
   "source": [
    "df.head()"
   ]
  },
  {
   "cell_type": "markdown",
   "id": "5895d558",
   "metadata": {},
   "source": [
    "# Тестирование гипотез:"
   ]
  },
  {
   "cell_type": "markdown",
   "id": "02af88fa",
   "metadata": {},
   "source": [
    "__Гипотеза №1__:"
   ]
  },
  {
   "cell_type": "markdown",
   "id": "50c3dd26",
   "metadata": {},
   "source": [
    "*Гипотеза состоит в том, что для игроков \"выше среднего\" (рейтинг от 1800), действует так называемое \"преимущество первого хода\";\n",
    "то есть игроки, которые начинают за белых, выигрывают чаще. Такое обрубание рейтинга было сделано в рамках двух предпосылок:*\n",
    "\n",
    "* Игроки с низким рейтингом не обладают достаточным опытом, чтобы реализовать это преимущество.\n",
    "\n",
    "* Игроки с низким рейтингом меньше боятся его потерять, поэтому результаты их игр не столь репрезентативны, ибо они не выкладываются на максимум."
   ]
  },
  {
   "cell_type": "markdown",
   "id": "bf298a97",
   "metadata": {},
   "source": [
    "$$\n",
    "H_0: \\mu > 0.5 \n",
    "\\\\\n",
    "$$\n",
    "$$\n",
    "  H_1: \\mu \\le 0.5\n",
    "$$"
   ]
  },
  {
   "cell_type": "markdown",
   "id": "531203c6",
   "metadata": {},
   "source": [
    "_В качестве уровня значимости выберем 5% и рассмотрим распределение результатов матчей._"
   ]
  },
  {
   "cell_type": "code",
   "execution_count": 164,
   "id": "7e74436c",
   "metadata": {},
   "outputs": [
    {
     "data": {
      "text/html": [
       "<div>\n",
       "<style scoped>\n",
       "    .dataframe tbody tr th:only-of-type {\n",
       "        vertical-align: middle;\n",
       "    }\n",
       "\n",
       "    .dataframe tbody tr th {\n",
       "        vertical-align: top;\n",
       "    }\n",
       "\n",
       "    .dataframe thead th {\n",
       "        text-align: right;\n",
       "    }\n",
       "</style>\n",
       "<table border=\"1\" class=\"dataframe\">\n",
       "  <thead>\n",
       "    <tr style=\"text-align: right;\">\n",
       "      <th></th>\n",
       "      <th>Event</th>\n",
       "      <th>Site</th>\n",
       "      <th>Date</th>\n",
       "      <th>Round</th>\n",
       "      <th>White</th>\n",
       "      <th>Black</th>\n",
       "      <th>Result</th>\n",
       "      <th>UTCDate</th>\n",
       "      <th>UTCTime</th>\n",
       "      <th>WhiteElo</th>\n",
       "      <th>BlackElo</th>\n",
       "      <th>WhiteRatingDiff</th>\n",
       "      <th>BlackRatingDiff</th>\n",
       "      <th>ECO</th>\n",
       "      <th>Opening</th>\n",
       "      <th>TimeControl</th>\n",
       "      <th>Termination</th>\n",
       "      <th>WhiteTitle</th>\n",
       "      <th>BlackTitle</th>\n",
       "    </tr>\n",
       "  </thead>\n",
       "  <tbody>\n",
       "    <tr>\n",
       "      <th>0</th>\n",
       "      <td>Rated Rapid tournament https://lichess.org/tou...</td>\n",
       "      <td>https://lichess.org/uManRThA</td>\n",
       "      <td>2023.03.01</td>\n",
       "      <td>-</td>\n",
       "      <td>Apostolis_L</td>\n",
       "      <td>laurent971</td>\n",
       "      <td>1-0</td>\n",
       "      <td>1</td>\n",
       "      <td>55</td>\n",
       "      <td>1326</td>\n",
       "      <td>1328</td>\n",
       "      <td>6.0</td>\n",
       "      <td>-6.0</td>\n",
       "      <td>C62</td>\n",
       "      <td>Ruy Lopez: Steinitz Defense</td>\n",
       "      <td>600+0</td>\n",
       "      <td>Normal</td>\n",
       "      <td>NaN</td>\n",
       "      <td>NaN</td>\n",
       "    </tr>\n",
       "    <tr>\n",
       "      <th>1</th>\n",
       "      <td>Rated Blitz game</td>\n",
       "      <td>https://lichess.org/j82WFG7O</td>\n",
       "      <td>2023.03.01</td>\n",
       "      <td>-</td>\n",
       "      <td>Chawteenn</td>\n",
       "      <td>EidosRock</td>\n",
       "      <td>1-0</td>\n",
       "      <td>1</td>\n",
       "      <td>29</td>\n",
       "      <td>1749</td>\n",
       "      <td>1775</td>\n",
       "      <td>6.0</td>\n",
       "      <td>-6.0</td>\n",
       "      <td>D32</td>\n",
       "      <td>Tarrasch Defense</td>\n",
       "      <td>180+0</td>\n",
       "      <td>Normal</td>\n",
       "      <td>NaN</td>\n",
       "      <td>NaN</td>\n",
       "    </tr>\n",
       "    <tr>\n",
       "      <th>2</th>\n",
       "      <td>Rated Blitz game</td>\n",
       "      <td>https://lichess.org/VVmF1x2d</td>\n",
       "      <td>2023.03.01</td>\n",
       "      <td>-</td>\n",
       "      <td>mathmatical</td>\n",
       "      <td>Ilieck</td>\n",
       "      <td>0-1</td>\n",
       "      <td>1</td>\n",
       "      <td>52</td>\n",
       "      <td>2030</td>\n",
       "      <td>2059</td>\n",
       "      <td>-5.0</td>\n",
       "      <td>6.0</td>\n",
       "      <td>B01</td>\n",
       "      <td>Scandinavian Defense: Mieses-Kotroc Variation</td>\n",
       "      <td>180+0</td>\n",
       "      <td>Time forfeit</td>\n",
       "      <td>NaN</td>\n",
       "      <td>NaN</td>\n",
       "    </tr>\n",
       "    <tr>\n",
       "      <th>3</th>\n",
       "      <td>Rated Rapid game</td>\n",
       "      <td>https://lichess.org/RagJpQJI</td>\n",
       "      <td>2023.03.01</td>\n",
       "      <td>-</td>\n",
       "      <td>Haze0809</td>\n",
       "      <td>Keykodeus</td>\n",
       "      <td>0-1</td>\n",
       "      <td>1</td>\n",
       "      <td>48</td>\n",
       "      <td>1204</td>\n",
       "      <td>1278</td>\n",
       "      <td>-5.0</td>\n",
       "      <td>116.0</td>\n",
       "      <td>B01</td>\n",
       "      <td>Scandinavian Defense: Mieses-Kotroc Variation</td>\n",
       "      <td>600+0</td>\n",
       "      <td>Normal</td>\n",
       "      <td>NaN</td>\n",
       "      <td>NaN</td>\n",
       "    </tr>\n",
       "    <tr>\n",
       "      <th>4</th>\n",
       "      <td>Rated Bullet game</td>\n",
       "      <td>https://lichess.org/y3hgXe5H</td>\n",
       "      <td>2023.03.01</td>\n",
       "      <td>-</td>\n",
       "      <td>PaPanDreo</td>\n",
       "      <td>Solus-Christus</td>\n",
       "      <td>0-1</td>\n",
       "      <td>1</td>\n",
       "      <td>97</td>\n",
       "      <td>1545</td>\n",
       "      <td>1564</td>\n",
       "      <td>-5.0</td>\n",
       "      <td>6.0</td>\n",
       "      <td>C50</td>\n",
       "      <td>Italian Game: Giuoco Pianissimo, Italian Four ...</td>\n",
       "      <td>120+1</td>\n",
       "      <td>Normal</td>\n",
       "      <td>NaN</td>\n",
       "      <td>NaN</td>\n",
       "    </tr>\n",
       "  </tbody>\n",
       "</table>\n",
       "</div>"
      ],
      "text/plain": [
       "                                               Event  \\\n",
       "0  Rated Rapid tournament https://lichess.org/tou...   \n",
       "1                                   Rated Blitz game   \n",
       "2                                   Rated Blitz game   \n",
       "3                                   Rated Rapid game   \n",
       "4                                  Rated Bullet game   \n",
       "\n",
       "                           Site        Date Round        White  \\\n",
       "0  https://lichess.org/uManRThA  2023.03.01     -  Apostolis_L   \n",
       "1  https://lichess.org/j82WFG7O  2023.03.01     -    Chawteenn   \n",
       "2  https://lichess.org/VVmF1x2d  2023.03.01     -  mathmatical   \n",
       "3  https://lichess.org/RagJpQJI  2023.03.01     -     Haze0809   \n",
       "4  https://lichess.org/y3hgXe5H  2023.03.01     -    PaPanDreo   \n",
       "\n",
       "            Black Result  UTCDate  UTCTime  WhiteElo  BlackElo  \\\n",
       "0      laurent971    1-0        1       55      1326      1328   \n",
       "1       EidosRock    1-0        1       29      1749      1775   \n",
       "2          Ilieck    0-1        1       52      2030      2059   \n",
       "3       Keykodeus    0-1        1       48      1204      1278   \n",
       "4  Solus-Christus    0-1        1       97      1545      1564   \n",
       "\n",
       "   WhiteRatingDiff  BlackRatingDiff  ECO  \\\n",
       "0              6.0             -6.0  C62   \n",
       "1              6.0             -6.0  D32   \n",
       "2             -5.0              6.0  B01   \n",
       "3             -5.0            116.0  B01   \n",
       "4             -5.0              6.0  C50   \n",
       "\n",
       "                                             Opening TimeControl  \\\n",
       "0                        Ruy Lopez: Steinitz Defense       600+0   \n",
       "1                                   Tarrasch Defense       180+0   \n",
       "2      Scandinavian Defense: Mieses-Kotroc Variation       180+0   \n",
       "3      Scandinavian Defense: Mieses-Kotroc Variation       600+0   \n",
       "4  Italian Game: Giuoco Pianissimo, Italian Four ...       120+1   \n",
       "\n",
       "    Termination WhiteTitle BlackTitle  \n",
       "0        Normal        NaN        NaN  \n",
       "1        Normal        NaN        NaN  \n",
       "2  Time forfeit        NaN        NaN  \n",
       "3        Normal        NaN        NaN  \n",
       "4        Normal        NaN        NaN  "
      ]
     },
     "execution_count": 164,
     "metadata": {},
     "output_type": "execute_result"
    }
   ],
   "source": [
    "df.head()"
   ]
  },
  {
   "cell_type": "code",
   "execution_count": 165,
   "id": "6e5ee026",
   "metadata": {},
   "outputs": [],
   "source": [
    "df.Result[(df.Result != '1-0') & (df.Result != '0-1')] = np.nan\n",
    "df.Result.dropna(inplace = True)"
   ]
  },
  {
   "cell_type": "code",
   "execution_count": 75,
   "id": "2b94e602",
   "metadata": {},
   "outputs": [],
   "source": [
    "x = (df[((df.WhiteElo.astype(int)) > 1800) & ((df.BlackElo.astype(int)) > 1800)].Result == '1-0').values"
   ]
  },
  {
   "cell_type": "markdown",
   "id": "4a2cfffd",
   "metadata": {},
   "source": [
    "*Рассчитаем статистику для z - теста:*\n",
    "\n"
   ]
  },
  {
   "cell_type": "code",
   "execution_count": 76,
   "id": "034547f2",
   "metadata": {},
   "outputs": [
    {
     "data": {
      "text/plain": [
       "-3.5644476815338253"
      ]
     },
     "execution_count": 76,
     "metadata": {},
     "output_type": "execute_result"
    }
   ],
   "source": [
    "(np.mean(x) - 0.5)/np.sqrt(np.var(x,ddof = 1)/x.shape[0])"
   ]
  },
  {
   "cell_type": "markdown",
   "id": "5f63d429",
   "metadata": {},
   "source": [
    "*Полученное значение сильно меньше 5% квантиля стандартного нормального(-1.64), поэтому нулевая гипотеза отвергается.*"
   ]
  },
  {
   "cell_type": "markdown",
   "id": "41cf2c65",
   "metadata": {},
   "source": [
    "*Теперь применим к данной гипотезе технику бутстрэпа и подсчитаем p-value. Реализовывать будем бутстрэп t-статистики и обратный перцентильный бутстрэп.*"
   ]
  },
  {
   "cell_type": "code",
   "execution_count": 172,
   "id": "3e46cd4b",
   "metadata": {},
   "outputs": [],
   "source": [
    "# - реализуем обратный перцентильный бутстрап\n",
    "def reverse_percentile_p_val(x):\n",
    "    \n",
    "    l_naive = []\n",
    "    l = x.shape[0]\n",
    "    mean_real = np.mean(x)\n",
    "    \n",
    "    boot_indices = np.random.choice(np.arange(l), size=(10**4, l))\n",
    "    means_boot = np.mean(x[boot_indices], axis=1) - mean_real\n",
    "\n",
    "    \n",
    "    return [np.mean(means_boot  < mean_real - 1/2),  means_boot]\n",
    "\n",
    "# - реализуем т-бутстрап\n",
    "def t_bootstrap_p_val(x):\n",
    "    \n",
    "    l_t = []\n",
    "    mean_real = np.mean(x)\n",
    "    \n",
    "    boot_indices = np.random.choice(np.arange(x.shape[0]), size=(10**4, x.shape[0]))\n",
    "\n",
    "    means_boot = np.mean(x[boot_indices], axis=1)\n",
    "    se_boot = (np.std(x[boot_indices], axis=1, ddof = 1))/np.sqrt(x.shape[0])\n",
    "\n",
    "   \n",
    "    return [np.mean((means_boot - mean_real)/se_boot < (mean_real - 0.5)/((np.std(x, ddof = 1))/np.sqrt(x.shape[0]))), \n",
    "        (means_boot - mean_real)/se_boot]\n",
    "       "
   ]
  },
  {
   "cell_type": "code",
   "execution_count": 170,
   "id": "93bc7cf4",
   "metadata": {},
   "outputs": [
    {
     "name": "stdout",
     "output_type": "stream",
     "text": [
      "p-value для обратного бутстрапа и t - бутстрапа: 0.0001 , 0.0002 \n",
      " оба меньше уровня значимости, гипотеза отвергается.\n"
     ]
    }
   ],
   "source": [
    "print(f'p-value для обратного бутстрапа и t - бутстрапа: {reverse_percentile_p_val(x)[0]} , {t_bootstrap_p_val(x)[0]} \\n оба меньше уровня значимости, гипотеза отвергается.')"
   ]
  },
  {
   "cell_type": "markdown",
   "id": "9b3dbeec",
   "metadata": {},
   "source": [
    "_Вдобавок полюбуемся на распределение бут-статистик._"
   ]
  },
  {
   "cell_type": "code",
   "execution_count": 202,
   "id": "ffd424fc",
   "metadata": {},
   "outputs": [
    {
     "data": {
      "image/png": "[encoded data removed]",
      "text/plain": [
       "<Figure size 640x480 with 1 Axes>"
      ]
     },
     "metadata": {},
     "output_type": "display_data"
    }
   ],
   "source": [
    "plt.hist(reverse_percentile_p_val(x)[1], bins = 20)\n",
    "plt.title('Распределение статистики при обратном перцентильном бутстрапе.')\n",
    "plt.show()"
   ]
  },
  {
   "cell_type": "code",
   "execution_count": 180,
   "id": "07d238c9",
   "metadata": {},
   "outputs": [
    {
     "data": {
      "image/png": "[encoded data removed]",
      "text/plain": [
       "<Figure size 640x480 with 1 Axes>"
      ]
     },
     "metadata": {},
     "output_type": "display_data"
    }
   ],
   "source": [
    "plt.hist(t_bootstrap_p_val(x)[1], bins = 20)\n",
    "plt.title('Распределение бутстрапированной t - статистики.')\n",
    "plt.show()"
   ]
  },
  {
   "cell_type": "markdown",
   "id": "6c4d770a",
   "metadata": {},
   "source": [
    "*Попробуем найти порог по рейтингу, для которого возможность первого хода создает статистически значимое различие:*"
   ]
  },
  {
   "cell_type": "code",
   "execution_count": 79,
   "id": "6ddeaa26",
   "metadata": {},
   "outputs": [
    {
     "name": "stdout",
     "output_type": "stream",
     "text": [
      "Искомый порог: 2132\n"
     ]
    }
   ],
   "source": [
    "for i in range(1800, 2200):\n",
    "    \n",
    "    x_skilled = df[((df.WhiteElo.astype(int)) > i) & ((df.BlackElo.astype(int)) > i)].Result == '1-0'\n",
    "    z_obs = (np.mean(x_skilled) - 0.5)/np.sqrt(np.var(x_skilled, ddof = 1)/(x_skilled.shape[0]))\n",
    "   \n",
    "    if z_obs > -1.64:\n",
    "        print(f'Искомый порог: {i}')\n",
    "        break"
   ]
  },
  {
   "cell_type": "markdown",
   "id": "a82ebd7c",
   "metadata": {},
   "source": [
    "*В целом, можно сказать, что только на очень высоком рейтинге игроки реализуют преимущество первого хода, что не кажется чем-то крайне контринтуитивным.*"
   ]
  },
  {
   "cell_type": "markdown",
   "id": "8bbbbf54",
   "metadata": {},
   "source": [
    "__Гипотеза №2__:"
   ]
  },
  {
   "cell_type": "markdown",
   "id": "0b330e03",
   "metadata": {},
   "source": [
    "*Посмотрим, есть ли зависимость между временем суток и результативностью игроков обеих групп. Для этого воспользуемся критерием Хи-квадрат пирсона.*"
   ]
  },
  {
   "cell_type": "markdown",
   "id": "bde83879",
   "metadata": {},
   "source": [
    "*Предобработаем данные, чтобы отделить утро, день, вечер и ночь по UTC по количеству секунд, прошедших с 00:00.*"
   ]
  },
  {
   "cell_type": "code",
   "execution_count": 183,
   "id": "2c7775dd",
   "metadata": {},
   "outputs": [],
   "source": [
    "df.Result[df.Result == '1-0'] = 1\n",
    "df.Result[df.Result == '0-1'] = 0\n",
    "\n",
    "df_chi = df.copy()\n",
    "\n",
    "df_chi.UTCTime[ (0 <= df_chi.UTCTime) &  (df_chi.UTCTime <= 21600)] = 1\n",
    "df_chi.UTCTime[(21600 < df_chi.UTCTime) & (df_chi.UTCTime<= 43200)] = 2\n",
    "df_chi.UTCTime[(43200 < df_chi.UTCTime) & (df_chi.UTCTime<= 64800)] = 3\n",
    "df_chi.UTCTime[64800 < df_chi.UTCTime] = 4\n",
    "\n",
    "time = df_chi.UTCTime\n",
    "\n",
    "time[time == 1] = 'Ночь'\n",
    "time[time == 2] = 'Утро'\n",
    "time[time == 3] = 'День'\n",
    "time[time == 4] = 'Вечер'\n",
    "\n",
    "df_chi.UTCTime = time"
   ]
  },
  {
   "cell_type": "markdown",
   "id": "0769fb51",
   "metadata": {},
   "source": [
    "*Для построения матрицы сопряженности посчитаем количество побед и поражений белых(и наоборот для черных), в зависимости от времени суток.*"
   ]
  },
  {
   "cell_type": "code",
   "execution_count": 136,
   "id": "7532e4a0",
   "metadata": {},
   "outputs": [],
   "source": [
    "morning_win_white = df_chi[df_chi.UTCTime == 'Утро'].Result.value_counts()[1]\n",
    "noon_win_white = df_chi[df_chi.UTCTime == 'День'].Result.value_counts()[1]\n",
    "evening_win_white = df_chi[df_chi.UTCTime == 'Вечер'].Result.value_counts()[1]\n",
    "night_win_white = df_chi[df_chi.UTCTime == 'Ночь'].Result.value_counts()[1]\n",
    "\n",
    "morning_lose_white = df_chi[df_chi.UTCTime == 'Утро'].Result.value_counts()[0]\n",
    "noon_lose_white = df_chi[df_chi.UTCTime == 'День'].Result.value_counts()[0]\n",
    "evening_lose_white = df_chi[df_chi.UTCTime == 'Вечер'].Result.value_counts()[0]\n",
    "night_lose_white = df_chi[df_chi.UTCTime == 'Ночь'].Result.value_counts()[0]"
   ]
  },
  {
   "cell_type": "markdown",
   "id": "5e138be9",
   "metadata": {},
   "source": [
    "Составим матрицу сопряженности."
   ]
  },
  {
   "cell_type": "code",
   "execution_count": 166,
   "id": "d8592363",
   "metadata": {},
   "outputs": [
    {
     "data": {
      "text/html": [
       "<div>\n",
       "<style scoped>\n",
       "    .dataframe tbody tr th:only-of-type {\n",
       "        vertical-align: middle;\n",
       "    }\n",
       "\n",
       "    .dataframe tbody tr th {\n",
       "        vertical-align: top;\n",
       "    }\n",
       "\n",
       "    .dataframe thead th {\n",
       "        text-align: right;\n",
       "    }\n",
       "</style>\n",
       "<table border=\"1\" class=\"dataframe\">\n",
       "  <thead>\n",
       "    <tr style=\"text-align: right;\">\n",
       "      <th></th>\n",
       "      <th>Выигрыши</th>\n",
       "      <th>Проигрыши</th>\n",
       "    </tr>\n",
       "  </thead>\n",
       "  <tbody>\n",
       "    <tr>\n",
       "      <th>Утро</th>\n",
       "      <td>4707</td>\n",
       "      <td>4431</td>\n",
       "    </tr>\n",
       "    <tr>\n",
       "      <th>День</th>\n",
       "      <td>6820</td>\n",
       "      <td>6769</td>\n",
       "    </tr>\n",
       "    <tr>\n",
       "      <th>Вечер</th>\n",
       "      <td>5855</td>\n",
       "      <td>5581</td>\n",
       "    </tr>\n",
       "    <tr>\n",
       "      <th>Ночь</th>\n",
       "      <td>3057</td>\n",
       "      <td>2884</td>\n",
       "    </tr>\n",
       "  </tbody>\n",
       "</table>\n",
       "</div>"
      ],
      "text/plain": [
       "       Выигрыши  Проигрыши\n",
       "Утро       4707       4431\n",
       "День       6820       6769\n",
       "Вечер      5855       5581\n",
       "Ночь       3057       2884"
      ]
     },
     "execution_count": 166,
     "metadata": {},
     "output_type": "execute_result"
    }
   ],
   "source": [
    "# Создание DataFrame из матрицы\n",
    "matrix = np.array([[morning_win_white, morning_lose_white],\n",
    "                   [noon_win_white, noon_lose_white],\n",
    "                   [evening_win_white, evening_lose_white],\n",
    "                   [night_win_white, night_lose_white]])\n",
    "\n",
    "times_of_day = ['Утро', 'День', 'Вечер', 'Ночь']\n",
    "columns = ['Выигрыши', 'Проигрыши']\n",
    "\n",
    "df_m = pd.DataFrame(matrix, index=times_of_day, columns=columns)\n",
    "\n",
    "# Вывод информации о победах и поражениях по временам суток\n",
    "df_m"
   ]
  },
  {
   "cell_type": "code",
   "execution_count": 158,
   "id": "7c6869fd",
   "metadata": {},
   "outputs": [
    {
     "data": {
      "text/plain": [
       "0.1581273760134131"
      ]
     },
     "execution_count": 158,
     "metadata": {},
     "output_type": "execute_result"
    }
   ],
   "source": [
    "sts.chi2_contingency(matrix, correction=False).pvalue"
   ]
  },
  {
   "cell_type": "markdown",
   "id": "18da789a",
   "metadata": {},
   "source": [
    "Данное значение p-value говорит о том, что гипотеза не отвергается и время дня не оказывает статистически значимого влияния на результативность белых или черных игроков. Из этого можно сделать выводы, что, например, люди из азиатских регионов не имеют особых преимуществ над европейцами в шахматах(т.к. время мы оценивали по UTC)."
   ]
  },
  {
   "cell_type": "markdown",
   "id": "c2a7f644",
   "metadata": {},
   "source": [
    "__Вывод:__ гипотеза о независимости не отвергается: время проведения матча не оказывает статистически значимого влияния на результаты."
   ]
  },
  {
   "cell_type": "markdown",
   "id": "d57eff9c",
   "metadata": {},
   "source": [
    "__Гипотеза №3__:"
   ]
  },
  {
   "cell_type": "markdown",
   "id": "21ca4304",
   "metadata": {},
   "source": [
    "_Теперь займёмся проверкой гипотезы о равенстве долей._\n",
    "\n",
    "_Пусть нулевая гипотеза состоит в том, что средний рейтинг у игроков, игравших за белых, и игроков, игравших за черных, равны, альтернатива двусторонняя._\n"
   ]
  },
  {
   "cell_type": "markdown",
   "id": "388cc99e",
   "metadata": {},
   "source": [
    "$$ H_0: \\mu_{white} = \\mu_{black} $$ \n",
    "\n",
    "$$ H_1: \\mu_{white} \\neq \\mu_{black} $$"
   ]
  },
  {
   "cell_type": "markdown",
   "id": "40baba77",
   "metadata": {},
   "source": [
    "Какую интерпретацию можно дать? Если бы в среднем рейтинг белых был бы выше или ниже, чем у черных, мы бы наблюдали дисбаланс результатов матчей. То есть можно было бы говорить о неоднородности рассматриваемой выборки."
   ]
  },
  {
   "cell_type": "code",
   "execution_count": 185,
   "id": "40aa8a44",
   "metadata": {},
   "outputs": [],
   "source": [
    "white = df.WhiteElo\n",
    "black = df.BlackElo"
   ]
  },
  {
   "cell_type": "markdown",
   "id": "09965d46",
   "metadata": {},
   "source": [
    "Пользуемся тестом Уэлча, т.к. дисперсии никогда на практике не равны, а при больших n квантили рассматриваемого распределения сойдутся к стандартному нормальному."
   ]
  },
  {
   "cell_type": "code",
   "execution_count": 189,
   "id": "ff2c559b",
   "metadata": {},
   "outputs": [],
   "source": [
    "S, pvalue_welch = ttest_ind(white, black, equal_var=False, alternative='two-sided')"
   ]
  },
  {
   "cell_type": "code",
   "execution_count": 190,
   "id": "b4d9eed8",
   "metadata": {},
   "outputs": [
    {
     "data": {
      "text/plain": [
       "0.7684525423612888"
      ]
     },
     "execution_count": 190,
     "metadata": {},
     "output_type": "execute_result"
    }
   ],
   "source": [
    "pvalue_welch"
   ]
  },
  {
   "cell_type": "markdown",
   "id": "ce28ecf1",
   "metadata": {},
   "source": [
    "_P-value больше уровня значимости, причем с запасом, гипотеза о равенстве средних не отвергается._"
   ]
  },
  {
   "cell_type": "markdown",
   "id": "f962a891",
   "metadata": {},
   "source": [
    "__Вывод__: *В целом на основе данного теста можно сделать вывод о том, что мы получили довольно однородную выборку из игроков и статистически значимых различий между категориями нет.*"
   ]
  }
 ],
 "metadata": {
  "kernelspec": {
   "display_name": "Python 3 (ipykernel)",
   "language": "python",
   "name": "python3"
  },
  "language_info": {
   "codemirror_mode": {
    "name": "ipython",
    "version": 3
   },
   "file_extension": ".py",
   "mimetype": "text/x-python",
   "name": "python",
   "nbconvert_exporter": "python",
   "pygments_lexer": "ipython3",
   "version": "3.9.7"
  }
 },
 "nbformat": 4,
 "nbformat_minor": 5
}
